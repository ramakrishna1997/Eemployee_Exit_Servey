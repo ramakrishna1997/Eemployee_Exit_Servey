{
 "cells": [
  {
   "cell_type": "markdown",
   "id": "407e0e00",
   "metadata": {},
   "source": [
    "    #                                 Employee Exit Servey"
   ]
  },
  {
   "cell_type": "markdown",
   "id": "f85617e3",
   "metadata": {},
   "source": [
    "## Employee exit surveys are used to collect information from employees.who have willingly left their current position in favour of one at a different organisation."
   ]
  },
  {
   "cell_type": "markdown",
   "id": "6ba5e5ba",
   "metadata": {},
   "source": [
    "# Requried Libraries"
   ]
  },
  {
   "cell_type": "code",
   "execution_count": 1,
   "id": "768f9708",
   "metadata": {},
   "outputs": [],
   "source": [
    "import pandas as pd\n",
    "import numpy as np\n",
    "import warnings\n",
    "warnings.filterwarnings(\"ignore\")"
   ]
  },
  {
   "cell_type": "code",
   "execution_count": 2,
   "id": "3b963360",
   "metadata": {},
   "outputs": [],
   "source": [
    "def read_csv():\n",
    "    df=pd.read_csv(r\"C:\\Users\\Ramakrishna\\Desktop\\Employee\\Employee Exit Survey.csv\")\n",
    "    return df"
   ]
  },
  {
   "cell_type": "markdown",
   "id": "5ac108e6",
   "metadata": {},
   "source": [
    "# 𝐄𝐃𝐀 (𝐄𝐱𝐩𝐥𝐨𝐫𝐞 𝐃𝐚𝐭𝐚 𝐀𝐧𝐚𝐥𝐲𝐬𝐢𝐬)"
   ]
  },
  {
   "cell_type": "markdown",
   "id": "d16b9197",
   "metadata": {},
   "source": [
    "## Data Cleaning"
   ]
  },
  {
   "cell_type": "markdown",
   "id": "ce964348",
   "metadata": {},
   "source": [
    "### 𝐑𝐞𝐦𝐨𝐯𝐢𝐧𝐠 𝐀𝐥𝐥 Unnecessary 𝐜𝐨𝐥𝐮𝐦𝐧𝐬"
   ]
  },
  {
   "cell_type": "code",
   "execution_count": 14,
   "id": "0df55e38",
   "metadata": {},
   "outputs": [],
   "source": [
    "def drop_unnecessary():\n",
    "    df=read_csv()\n",
    "    df.drop([\"_id\",'Career move to public sector',\n",
    "       'Career move to private sector', 'Interpersonal conflicts',\n",
    "       'Job dissatisfaction', 'Dissatisfaction with the department',\n",
    "       'Physical work environment', 'Lack of recognition',\n",
    "       'Lack of job security', 'Work location', 'Employment conditions',\n",
    "       'Maternity/family', 'Relocation', 'Study/Travel', 'Ill Health',\n",
    "       'Traumatic incident', 'Work life balance', 'Workload',\n",
    "       'None of the above','Aboriginal', 'Torres Strait', 'South Sea', 'Disability',\n",
    "       'NESB','Professional Development',\n",
    "       'Opportunities for promotion', 'Staff morale', 'Workplace issue',\n",
    "       'Physical environment', 'Worklife balance',\n",
    "       'Stress and pressure support', 'Performance of supervisor',\n",
    "       'Peer support', 'Initiative', 'Skills', 'Coach', 'Career Aspirations',\n",
    "       'Feedback', 'Further PD', 'Communication', 'My say', 'Information',\n",
    "       'Kept informed', 'Wellness programs', 'Health & Safety'],axis=1,inplace=True)\n",
    "    return df"
   ]
  },
  {
   "cell_type": "markdown",
   "id": "d6c83e38",
   "metadata": {},
   "source": [
    "### Checking the duplicate values"
   ]
  },
  {
   "cell_type": "code",
   "execution_count": 28,
   "id": "8d69deca",
   "metadata": {},
   "outputs": [],
   "source": [
    "def check_duplicate_values():\n",
    "    df=drop_unnecessary()\n",
    "    duplicate_values=df.duplicated().sum()\n",
    "    return duplicate_values"
   ]
  },
  {
   "cell_type": "code",
   "execution_count": 29,
   "id": "c3f51c54",
   "metadata": {},
   "outputs": [
    {
     "data": {
      "text/plain": [
       "0"
      ]
     },
     "execution_count": 29,
     "metadata": {},
     "output_type": "execute_result"
    }
   ],
   "source": [
    "check_duplicate_values()"
   ]
  },
  {
   "cell_type": "markdown",
   "id": "a8bc4478",
   "metadata": {},
   "source": [
    "### Checking Null Values or Not"
   ]
  },
  {
   "cell_type": "code",
   "execution_count": 32,
   "id": "151cbc92",
   "metadata": {},
   "outputs": [],
   "source": [
    "def check_nulls():\n",
    "    df=drop_unnecessary()\n",
    "    check_nul=df.isna().sum()\n",
    "    return check_nul"
   ]
  },
  {
   "cell_type": "code",
   "execution_count": 43,
   "id": "be9d683b",
   "metadata": {},
   "outputs": [],
   "source": [
    "#check_nulls()"
   ]
  },
  {
   "cell_type": "markdown",
   "id": "3f7020e0",
   "metadata": {},
   "source": [
    "### Removing Null Values"
   ]
  },
  {
   "cell_type": "code",
   "execution_count": 40,
   "id": "1f5d56ae",
   "metadata": {},
   "outputs": [],
   "source": [
    "def removing_nulls():\n",
    "    df=drop_unnecessary()\n",
    "    df.dropna(inplace=True)\n",
    "    return df"
   ]
  },
  {
   "cell_type": "code",
   "execution_count": 42,
   "id": "8e077628",
   "metadata": {},
   "outputs": [],
   "source": [
    "#removing_nulls()"
   ]
  },
  {
   "cell_type": "markdown",
   "id": "d2f06314",
   "metadata": {},
   "source": [
    "### rename the columns"
   ]
  },
  {
   "cell_type": "code",
   "execution_count": 44,
   "id": "1285f890",
   "metadata": {},
   "outputs": [],
   "source": [
    "def rename_columns():\n",
    "    df=removing_nulls()\n",
    "    name={'ID':'Record_id',\"SeparationType\":'Separation_Type',\"Cease Date\":'case_date',\"DETE Start Date\":\"Start_Date\",\"Role Start Date\":\"Date_of_join\",\n",
    "     \"Position\":'Position'}\n",
    "    df.rename(columns=name,inplace=True)\n",
    "    return df"
   ]
  },
  {
   "cell_type": "code",
   "execution_count": 46,
   "id": "17fcd2d8",
   "metadata": {},
   "outputs": [],
   "source": [
    "#rename_columns()"
   ]
  },
  {
   "cell_type": "markdown",
   "id": "40648b00",
   "metadata": {},
   "source": [
    "### Correcting the  record_id column"
   ]
  },
  {
   "cell_type": "code",
   "execution_count": 85,
   "id": "df358590",
   "metadata": {},
   "outputs": [],
   "source": [
    "def correct_id():\n",
    "    df=rename_columns()\n",
    "    df['Record_id']=x\n",
    "    return df"
   ]
  },
  {
   "cell_type": "code",
   "execution_count": 77,
   "id": "30953490",
   "metadata": {},
   "outputs": [
    {
     "name": "stdout",
     "output_type": "stream",
     "text": [
      "[1, 2, 3, 4, 5, 6, 7, 8, 9, 10, 11, 12, 13, 14, 15, 16, 17, 18, 19, 20, 21, 22, 23, 24, 25, 26, 27, 28, 29, 30, 31, 32, 33, 34, 35, 36, 37, 38, 39, 40, 41, 42, 43, 44, 45, 46, 47, 48, 49, 50, 51, 52, 53, 54, 55, 56, 57, 58, 59, 60, 61, 62, 63, 64, 65, 66, 67, 68, 69, 70, 71, 72, 73, 74, 75, 76, 77, 78, 79, 80, 81, 82, 83, 84, 85, 86]\n"
     ]
    }
   ],
   "source": [
    "x=[]\n",
    "for i in range(1,87):\n",
    "    x.append(i)\n",
    "print(x)"
   ]
  },
  {
   "cell_type": "code",
   "execution_count": 87,
   "id": "0c968b32",
   "metadata": {},
   "outputs": [],
   "source": [
    "#correct_id()"
   ]
  },
  {
   "cell_type": "markdown",
   "id": "a9b84a15",
   "metadata": {},
   "source": [
    "### Export data "
   ]
  },
  {
   "cell_type": "code",
   "execution_count": 89,
   "id": "90cbaa2f",
   "metadata": {},
   "outputs": [],
   "source": [
    "def export_data():\n",
    "    df=correct_id()\n",
    "    df.to_csv(\"Employee_Exit_Survey.csv\")\n",
    "    return df"
   ]
  },
  {
   "cell_type": "code",
   "execution_count": 90,
   "id": "69f169f2",
   "metadata": {},
   "outputs": [
    {
     "data": {
      "text/html": [
       "<div>\n",
       "<style scoped>\n",
       "    .dataframe tbody tr th:only-of-type {\n",
       "        vertical-align: middle;\n",
       "    }\n",
       "\n",
       "    .dataframe tbody tr th {\n",
       "        vertical-align: top;\n",
       "    }\n",
       "\n",
       "    .dataframe thead th {\n",
       "        text-align: right;\n",
       "    }\n",
       "</style>\n",
       "<table border=\"1\" class=\"dataframe\">\n",
       "  <thead>\n",
       "    <tr style=\"text-align: right;\">\n",
       "      <th></th>\n",
       "      <th>Record_id</th>\n",
       "      <th>Separation_Type</th>\n",
       "      <th>case_date</th>\n",
       "      <th>Start_Date</th>\n",
       "      <th>Date_of_join</th>\n",
       "      <th>Position</th>\n",
       "      <th>Classification</th>\n",
       "      <th>Region</th>\n",
       "      <th>Business Unit</th>\n",
       "      <th>Employment Status</th>\n",
       "      <th>Gender</th>\n",
       "      <th>Age</th>\n",
       "    </tr>\n",
       "  </thead>\n",
       "  <tbody>\n",
       "    <tr>\n",
       "      <th>0</th>\n",
       "      <td>1</td>\n",
       "      <td>Ill Health Retirement</td>\n",
       "      <td>Aug-12</td>\n",
       "      <td>1984.0</td>\n",
       "      <td>2004.0</td>\n",
       "      <td>Public Servant</td>\n",
       "      <td>A01-A04</td>\n",
       "      <td>Central Office</td>\n",
       "      <td>Corporate Strategy and Peformance</td>\n",
       "      <td>Permanent Full-time</td>\n",
       "      <td>Male</td>\n",
       "      <td>56-60</td>\n",
       "    </tr>\n",
       "    <tr>\n",
       "      <th>10</th>\n",
       "      <td>2</td>\n",
       "      <td>Age Retirement</td>\n",
       "      <td>2012</td>\n",
       "      <td>1999.0</td>\n",
       "      <td>1999.0</td>\n",
       "      <td>Teacher</td>\n",
       "      <td>Primary</td>\n",
       "      <td>Central Office</td>\n",
       "      <td>Education Queensland</td>\n",
       "      <td>Permanent Full-time</td>\n",
       "      <td>Male</td>\n",
       "      <td>61 or older</td>\n",
       "    </tr>\n",
       "    <tr>\n",
       "      <th>26</th>\n",
       "      <td>3</td>\n",
       "      <td>Age Retirement</td>\n",
       "      <td>2012</td>\n",
       "      <td>1974.0</td>\n",
       "      <td>1977.0</td>\n",
       "      <td>Teacher</td>\n",
       "      <td>Primary</td>\n",
       "      <td>Central Office</td>\n",
       "      <td>Education Queensland</td>\n",
       "      <td>Permanent Full-time</td>\n",
       "      <td>Male</td>\n",
       "      <td>56-60</td>\n",
       "    </tr>\n",
       "    <tr>\n",
       "      <th>27</th>\n",
       "      <td>4</td>\n",
       "      <td>Resignation-Other employer</td>\n",
       "      <td>2012</td>\n",
       "      <td>2005.0</td>\n",
       "      <td>2011.0</td>\n",
       "      <td>Public Servant</td>\n",
       "      <td>AO5-AO7</td>\n",
       "      <td>Central Office</td>\n",
       "      <td>Information and Technologies</td>\n",
       "      <td>Permanent Full-time</td>\n",
       "      <td>Female</td>\n",
       "      <td>21-25</td>\n",
       "    </tr>\n",
       "    <tr>\n",
       "      <th>73</th>\n",
       "      <td>5</td>\n",
       "      <td>Contract Expired</td>\n",
       "      <td>2012</td>\n",
       "      <td>2009.0</td>\n",
       "      <td>2011.0</td>\n",
       "      <td>Public Servant</td>\n",
       "      <td>AO5-AO7</td>\n",
       "      <td>Central Office</td>\n",
       "      <td>Information and Technologies</td>\n",
       "      <td>Temporary Full-time</td>\n",
       "      <td>Male</td>\n",
       "      <td>26-30</td>\n",
       "    </tr>\n",
       "    <tr>\n",
       "      <th>...</th>\n",
       "      <td>...</td>\n",
       "      <td>...</td>\n",
       "      <td>...</td>\n",
       "      <td>...</td>\n",
       "      <td>...</td>\n",
       "      <td>...</td>\n",
       "      <td>...</td>\n",
       "      <td>...</td>\n",
       "      <td>...</td>\n",
       "      <td>...</td>\n",
       "      <td>...</td>\n",
       "      <td>...</td>\n",
       "    </tr>\n",
       "    <tr>\n",
       "      <th>721</th>\n",
       "      <td>82</td>\n",
       "      <td>Contract Expired</td>\n",
       "      <td>Sep-13</td>\n",
       "      <td>2013.0</td>\n",
       "      <td>2013.0</td>\n",
       "      <td>Public Servant</td>\n",
       "      <td>A01-A04</td>\n",
       "      <td>Central Office</td>\n",
       "      <td>Information and Technologies</td>\n",
       "      <td>Casual</td>\n",
       "      <td>Male</td>\n",
       "      <td>21-25</td>\n",
       "    </tr>\n",
       "    <tr>\n",
       "      <th>722</th>\n",
       "      <td>83</td>\n",
       "      <td>Contract Expired</td>\n",
       "      <td>Sep-13</td>\n",
       "      <td>2013.0</td>\n",
       "      <td>2013.0</td>\n",
       "      <td>Public Servant</td>\n",
       "      <td>A01-A04</td>\n",
       "      <td>Central Office</td>\n",
       "      <td>Information and Technologies</td>\n",
       "      <td>Casual</td>\n",
       "      <td>Male</td>\n",
       "      <td>51-55</td>\n",
       "    </tr>\n",
       "    <tr>\n",
       "      <th>723</th>\n",
       "      <td>84</td>\n",
       "      <td>Contract Expired</td>\n",
       "      <td>Sep-13</td>\n",
       "      <td>2013.0</td>\n",
       "      <td>2013.0</td>\n",
       "      <td>Public Servant</td>\n",
       "      <td>A01-A04</td>\n",
       "      <td>Central Office</td>\n",
       "      <td>Information and Technologies</td>\n",
       "      <td>Casual</td>\n",
       "      <td>Male</td>\n",
       "      <td>31-35</td>\n",
       "    </tr>\n",
       "    <tr>\n",
       "      <th>744</th>\n",
       "      <td>85</td>\n",
       "      <td>Resignation-Other employer</td>\n",
       "      <td>Dec-13</td>\n",
       "      <td>1991.0</td>\n",
       "      <td>2004.0</td>\n",
       "      <td>Public Servant</td>\n",
       "      <td>A01-A04</td>\n",
       "      <td>Central Office</td>\n",
       "      <td>Information and Technologies</td>\n",
       "      <td>Permanent Full-time</td>\n",
       "      <td>Female</td>\n",
       "      <td>41-45</td>\n",
       "    </tr>\n",
       "    <tr>\n",
       "      <th>819</th>\n",
       "      <td>86</td>\n",
       "      <td>Resignation-Move overseas/interstate</td>\n",
       "      <td>Jan-14</td>\n",
       "      <td>2009.0</td>\n",
       "      <td>2009.0</td>\n",
       "      <td>Public Servant</td>\n",
       "      <td>A01-A04</td>\n",
       "      <td>Central Office</td>\n",
       "      <td>Education Queensland</td>\n",
       "      <td>Permanent Full-time</td>\n",
       "      <td>Female</td>\n",
       "      <td>31-35</td>\n",
       "    </tr>\n",
       "  </tbody>\n",
       "</table>\n",
       "<p>86 rows × 12 columns</p>\n",
       "</div>"
      ],
      "text/plain": [
       "     Record_id                       Separation_Type case_date  Start_Date  \\\n",
       "0            1                 Ill Health Retirement    Aug-12      1984.0   \n",
       "10           2                        Age Retirement      2012      1999.0   \n",
       "26           3                        Age Retirement      2012      1974.0   \n",
       "27           4            Resignation-Other employer      2012      2005.0   \n",
       "73           5                      Contract Expired      2012      2009.0   \n",
       "..         ...                                   ...       ...         ...   \n",
       "721         82                      Contract Expired    Sep-13      2013.0   \n",
       "722         83                      Contract Expired    Sep-13      2013.0   \n",
       "723         84                      Contract Expired    Sep-13      2013.0   \n",
       "744         85            Resignation-Other employer    Dec-13      1991.0   \n",
       "819         86  Resignation-Move overseas/interstate    Jan-14      2009.0   \n",
       "\n",
       "     Date_of_join        Position Classification          Region  \\\n",
       "0          2004.0  Public Servant        A01-A04  Central Office   \n",
       "10         1999.0         Teacher        Primary  Central Office   \n",
       "26         1977.0         Teacher        Primary  Central Office   \n",
       "27         2011.0  Public Servant        AO5-AO7  Central Office   \n",
       "73         2011.0  Public Servant        AO5-AO7  Central Office   \n",
       "..            ...             ...            ...             ...   \n",
       "721        2013.0  Public Servant        A01-A04  Central Office   \n",
       "722        2013.0  Public Servant        A01-A04  Central Office   \n",
       "723        2013.0  Public Servant        A01-A04  Central Office   \n",
       "744        2004.0  Public Servant        A01-A04  Central Office   \n",
       "819        2009.0  Public Servant        A01-A04  Central Office   \n",
       "\n",
       "                         Business Unit    Employment Status  Gender  \\\n",
       "0    Corporate Strategy and Peformance  Permanent Full-time    Male   \n",
       "10                Education Queensland  Permanent Full-time    Male   \n",
       "26                Education Queensland  Permanent Full-time    Male   \n",
       "27        Information and Technologies  Permanent Full-time  Female   \n",
       "73        Information and Technologies  Temporary Full-time    Male   \n",
       "..                                 ...                  ...     ...   \n",
       "721       Information and Technologies               Casual    Male   \n",
       "722       Information and Technologies               Casual    Male   \n",
       "723       Information and Technologies               Casual    Male   \n",
       "744       Information and Technologies  Permanent Full-time  Female   \n",
       "819               Education Queensland  Permanent Full-time  Female   \n",
       "\n",
       "             Age  \n",
       "0          56-60  \n",
       "10   61 or older  \n",
       "26         56-60  \n",
       "27         21-25  \n",
       "73         26-30  \n",
       "..           ...  \n",
       "721        21-25  \n",
       "722        51-55  \n",
       "723        31-35  \n",
       "744        41-45  \n",
       "819        31-35  \n",
       "\n",
       "[86 rows x 12 columns]"
      ]
     },
     "execution_count": 90,
     "metadata": {},
     "output_type": "execute_result"
    }
   ],
   "source": [
    "export_data()"
   ]
  },
  {
   "cell_type": "markdown",
   "id": "6ed36093",
   "metadata": {},
   "source": [
    "## Thank you"
   ]
  },
  {
   "cell_type": "markdown",
   "id": "64b5d801",
   "metadata": {},
   "source": [
    "### Remaining will on Alteryx "
   ]
  }
 ],
 "metadata": {
  "kernelspec": {
   "display_name": "Python 3 (ipykernel)",
   "language": "python",
   "name": "python3"
  },
  "language_info": {
   "codemirror_mode": {
    "name": "ipython",
    "version": 3
   },
   "file_extension": ".py",
   "mimetype": "text/x-python",
   "name": "python",
   "nbconvert_exporter": "python",
   "pygments_lexer": "ipython3",
   "version": "3.11.1"
  }
 },
 "nbformat": 4,
 "nbformat_minor": 5
}
